{
 "cells": [
  {
   "cell_type": "code",
   "execution_count": 14,
   "id": "0ac7f750",
   "metadata": {},
   "outputs": [
    {
     "data": {
      "text/plain": [
       "difusión"
      ]
     },
     "execution_count": 14,
     "metadata": {},
     "output_type": "execute_result"
    }
   ],
   "source": [
    "using VideoIO\n",
    "using Plots\n",
    "using Images\n",
    "using LaTeXStrings\n",
    "using Measures\n",
    "include(\"funciones.jl\")"
   ]
  },
  {
   "cell_type": "code",
   "execution_count": 2,
   "id": "cd177da1",
   "metadata": {},
   "outputs": [
    {
     "data": {
      "text/plain": [
       "convolucion (generic function with 1 method)"
      ]
     },
     "execution_count": 2,
     "metadata": {},
     "output_type": "execute_result"
    }
   ],
   "source": [
    "function aplica_kernel(color,kernel,n, x,y)\n",
    "    vecinos = [color[x+i, y+j] for i in -n:n, j in -n:n] #establece la vecindad alrededor del pixel\n",
    "    suma = sum(vecinos .* kernel) #multiplica la vecidad por el kernel entrada por entrada y suma todos los valores\n",
    "    \n",
    "    #si la suma es mayor a 1, devuelve 1; si la suma es menor a 0, devuelve 0; el cualquier otro caso devuelve el valor calculado\n",
    "    if suma<0 suma=0\n",
    "    elseif suma>1 suma=1\n",
    "    else suma\n",
    "    end\n",
    "    \n",
    "    return suma\n",
    "end\n",
    "function convolucion(Imagen, kernel)\n",
    "    tamaño = size(Imagen)\n",
    "    n = Int((size(kernel)[1]-1)/2)\n",
    "    \n",
    "    #crea bordes de tamaño n alrededor de la imagen y al mismo tiempo descompone en rojo, verde y azul\n",
    "    RED = zeros(tamaño[2]+2n, tamaño[1]+2n)\n",
    "    GREEN = zeros(tamaño[2]+2n, tamaño[1]+2n)\n",
    "    BLUE = zeros(tamaño[2]+2n, tamaño[1]+2n)\n",
    "    for i in 1:tamaño[2]+(2*n)\n",
    "        for j in 1:tamaño[1]+(2*n)\n",
    "            if (i<=n || i>tamaño[2]+n || j<=n || j>tamaño[1]+n)\n",
    "                RED[i,j] = 1\n",
    "                GREEN[i,j] = 1\n",
    "                BLUE[i,j] = 1\n",
    "            else\n",
    "                RED[i,j] = red(Imagen[j-n,i-n])\n",
    "                GREEN[i,j] = green(Imagen[j-n,i-n])\n",
    "                BLUE[i,j] = blue(Imagen[j-n,i-n])\n",
    "            end\n",
    "        end\n",
    "    end\n",
    "    \n",
    "    #almacena los nuevos valores de rojo, verde y azul ya aplicada la convolucion\n",
    "    RED_nueva = [aplica_kernel(RED,kernel,n, i,j) for i in n+1:size(RED)[1]-n, j in n+1:size(RED)[2]-n]\n",
    "    GREEN_nueva = [aplica_kernel(GREEN,kernel,n, i,j) for i in n+1:size(GREEN)[1]-n, j in n+1:size(GREEN)[2]-n]\n",
    "    BLUE_nueva = [aplica_kernel(BLUE,kernel,n, i,j) for i in n+1:size(BLUE)[1]-n, j in n+1:size(BLUE)[2]-n]\n",
    "    #crea la nueva imagen con la composición de rojo, verde y azul\n",
    "    nueva_imagen = [RGB(RED_nueva[i,j], GREEN_nueva[i,j], BLUE_nueva[i,j]) for j in n+1:size(RED_nueva)[2]-n, i in n+1:size(RED_nueva)[1]-n]\n",
    "    \n",
    "    return nueva_imagen\n",
    "end"
   ]
  },
  {
   "cell_type": "code",
   "execution_count": 18,
   "id": "57199e10",
   "metadata": {},
   "outputs": [],
   "source": [
    "video = VideoIO.load(\"videoparticulas.mp4\");\n",
    "tam_x, tam_y = size(video[1])[1], size(video[1])[2]\n",
    "frontera = [[CartesianIndex(x, y) for x in [1:10; tam_x-9:tam_x] for y in 1:tam_y];\n",
    "            [CartesianIndex(x, y) for x in 10:tam_x-9 for y in [1:10; tam_y-9:tam_y]]];"
   ]
  },
  {
   "cell_type": "code",
   "execution_count": 13,
   "id": "859bc64d",
   "metadata": {},
   "outputs": [],
   "source": [
    "kernel1 = [1 1 1; 1 -8 1; 1 1 1]\n",
    "img1 = Gray.(convolucion(video[1], kernel1))\n",
    "save(\"laplacian+1-8.png\", img1)\n",
    "\n",
    "kernel11 = [-1 -1 -1; -1 8 -1; -1 -1 -1]\n",
    "img11 = Gray.(convolucion(video[1], kernel11))\n",
    "save(\"laplacian-1+8.png\", img11)\n",
    "\n",
    "kernel2 = [\n",
    "0 1 1 2 2 2 1 1 0;\n",
    "1 2 4 5 5 5 4 2 1;\n",
    "1 4 5 3 0 3 5 4 1;\n",
    "2 5 3 -12 -24 -12 3 5 2;\n",
    "2 5 0 -24 -40 -24 0 5 2;\n",
    "2 5 3 -12 -24 -12 3 5 2;\n",
    "1 4 5 3 0 3 5 4 1;\n",
    "1 2 4 5 5 5 4 2 1;\n",
    "0 1 1 2 2 2 1 1 0\n",
    "    ]\n",
    "img2 = Gray.(convolucion(video[1], kernel2))\n",
    "save(\"log01122.png\", img2)\n",
    "\n",
    "kernel3 = [\n",
    "0 0 3 2 2 2 3 0 0;\n",
    "0 2 3 5 5 5 3 2 0;\n",
    "3 3 5 3 0 3 5 3 3;\n",
    "2 5 3 -12 -23 -12 3 2 2;\n",
    "2 5 0 -23 -40 -23 0 5 2;\n",
    "2 5 3 -12 -23 -12 3 2 2;\n",
    "3 3 5 3 0 3 5 3 3;\n",
    "0 2 3 5 5 5 3 2 0;\n",
    "0 0 3 2 2 2 3 0 0\n",
    "    ]\n",
    "img3 = Gray.(convolucion(video[1], kernel3))\n",
    "save(\"log00322.png\", img3)\n",
    "\n",
    "kernel4 = [\n",
    "0 0 -1 0 0;\n",
    "0 -1 -2 -1 0;\n",
    "-1 -2 16 -2 -1;\n",
    "0 -1 -2 -1 0;\n",
    "0 0 -1 0 0\n",
    "    ]\n",
    "img4 = Gray.(convolucion(video[1], kernel4))\n",
    "save(\"log00-1.png\", img4)"
   ]
  },
  {
   "cell_type": "code",
   "execution_count": 21,
   "id": "c215eebd",
   "metadata": {},
   "outputs": [],
   "source": [
    "#Y la más importante, la buena!\n",
    "#Son dos imágenes, una binaria y una que tiene los centroides\n",
    "save(\"binaria.png\", procesar_imagen!(video[1]))\n",
    "A = zeros(tam_x, tam_y)\n",
    "A[encontrar_partículas_1_frame!(video[1])] .= 1\n",
    "save(\"centroides.png\", Gray.(A))"
   ]
  },
  {
   "cell_type": "code",
   "execution_count": 10,
   "id": "be0e9ba5",
   "metadata": {},
   "outputs": [],
   "source": []
  },
  {
   "cell_type": "code",
   "execution_count": 11,
   "id": "69cf7d33",
   "metadata": {},
   "outputs": [],
   "source": []
  },
  {
   "cell_type": "code",
   "execution_count": null,
   "id": "2e53296d",
   "metadata": {},
   "outputs": [],
   "source": []
  }
 ],
 "metadata": {
  "kernelspec": {
   "display_name": "Julia 1.7.2",
   "language": "julia",
   "name": "julia-1.7"
  },
  "language_info": {
   "file_extension": ".jl",
   "mimetype": "application/julia",
   "name": "julia",
   "version": "1.7.2"
  }
 },
 "nbformat": 4,
 "nbformat_minor": 5
}
