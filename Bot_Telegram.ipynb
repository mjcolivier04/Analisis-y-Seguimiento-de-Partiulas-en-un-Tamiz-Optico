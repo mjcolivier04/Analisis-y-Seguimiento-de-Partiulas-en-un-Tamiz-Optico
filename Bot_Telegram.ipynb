{
 "cells": [
  {
   "cell_type": "code",
   "execution_count": null,
   "id": "53019c59",
   "metadata": {},
   "outputs": [],
   "source": [
    "using Telegram, Telegram.API\n",
    "using Images\n",
    "using Plots\n",
    "using VideoIO\n",
    "include(\"funciones.jl\")"
   ]
  },
  {
   "cell_type": "code",
   "execution_count": null,
   "id": "3a23c33f",
   "metadata": {},
   "outputs": [],
   "source": [
    "token = \"5406639750:AAHW1VAiBx0ROh-_PyJkoeG3uIfoYtR_pg4\"\n",
    "tg = TelegramClient(token)"
   ]
  },
  {
   "cell_type": "code",
   "execution_count": null,
   "id": "353502be",
   "metadata": {},
   "outputs": [],
   "source": [
    "run_bot() do msg\n",
    "    \n",
    "    try \n",
    "       \n",
    "        if (\"video\" in keys(msg.message))\n",
    "            id_fille = msg.message.video.file_id\n",
    "            path = Telegram.API.getFile(tg, file_id =  id_fille).file_path\n",
    "            video_pagina = \"https://api.telegram.org/file/bot\"*token*\"/\"*path\n",
    "            sendMessage(tg, text = \"Analizando, espere un momento.\", chat_id = msg.message.chat.id)\n",
    "            save(\"videoparticulas.mp4\", load(download(video_pagina)))\n",
    "            global tracking = seguir_partículas();   \n",
    "            global msd_tracking = MSD(tracking)\n",
    "            sendMessage(tg, text = \"Análisis realizado.\", chat_id = msg.message.chat.id)         \n",
    "            \n",
    "            \n",
    "        elseif msg.message.text == \"/start\"\n",
    "            sendMessage(tg, text = \"Este es un bot para analizar videos.\\nManda un video para analizar.\", chat_id = msg.message.chat.id)         \n",
    "        \n",
    "        \n",
    "        elseif msg.message.text == \"/mostrar_analisis\"\n",
    "            \n",
    "            graficar_MSD(msd_tracking)\n",
    "            savefig(\"grafica_msd.png\")\n",
    "            sendPhoto(photo = open(\"grafica_msd.png\", \"r\"), chat_id = msg.message.chat.id)\n",
    "\n",
    "            dif = difusión(msd_tracking)\n",
    "            dif[1]\n",
    "            savefig(\"grafica_difusión.png\")\n",
    "            sendPhoto(photo = open(\"grafica_difusión.png\", \"r\"), chat_id = msg.message.chat.id)\n",
    "            val_dif = dif[2]\n",
    "            sendMessage(tg, text = \"El valor de la difusión es $val_dif\", chat_id = msg.message.chat.id)\n",
    "            \n",
    "            \n",
    "        elseif msg.message.text == \"/trayectoria\"\n",
    "            n = rand(1:length(tracking))\n",
    "            graficar_trayectoria(tracking, n)\n",
    "            sendPhoto(photo = open(\"trayectoria.png\", \"r\"), chat_id = msg.message.chat.id)\n",
    "       \n",
    "        end\n",
    "        \n",
    "        \n",
    "    catch\n",
    "\n",
    "        sendMessage(tg, text = \"Error\", chat_id = msg.message.chat.id)\n",
    "        \n",
    "    end\n",
    "end"
   ]
  }
 ],
 "metadata": {
  "@webio": {
   "lastCommId": null,
   "lastKernelId": null
  },
  "kernelspec": {
   "display_name": "Julia 1.7.2",
   "language": "julia",
   "name": "julia-1.7"
  },
  "language_info": {
   "file_extension": ".jl",
   "mimetype": "application/julia",
   "name": "julia",
   "version": "1.7.2"
  }
 },
 "nbformat": 4,
 "nbformat_minor": 5
}
